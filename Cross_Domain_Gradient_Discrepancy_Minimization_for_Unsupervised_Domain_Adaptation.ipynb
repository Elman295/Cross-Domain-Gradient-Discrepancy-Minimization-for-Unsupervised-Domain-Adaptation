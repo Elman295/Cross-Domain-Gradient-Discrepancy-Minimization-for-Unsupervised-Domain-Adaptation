{
  "nbformat": 4,
  "nbformat_minor": 0,
  "metadata": {
    "colab": {
      "provenance": [],
      "gpuType": "T4",
      "authorship_tag": "ABX9TyMdCgHT7gIzYCRkoKwBjWad",
      "include_colab_link": true
    },
    "kernelspec": {
      "name": "python3",
      "display_name": "Python 3"
    },
    "language_info": {
      "name": "python"
    },
    "accelerator": "GPU"
  },
  "cells": [
    {
      "cell_type": "markdown",
      "metadata": {
        "id": "view-in-github",
        "colab_type": "text"
      },
      "source": [
        "<a href=\"https://colab.research.google.com/github/Elman295/Cross-Domain-Gradient-Discrepancy-Minimization-for-Unsupervised-Domain-Adaptation/blob/main/Cross_Domain_Gradient_Discrepancy_Minimization_for_Unsupervised_Domain_Adaptation.ipynb\" target=\"_parent\"><img src=\"https://colab.research.google.com/assets/colab-badge.svg\" alt=\"Open In Colab\"/></a>"
      ]
    },
    {
      "cell_type": "code",
      "execution_count": 1,
      "metadata": {
        "id": "F6siN49OXiKz"
      },
      "outputs": [],
      "source": [
        "import numpy as np\n",
        "import matplotlib.pyplot as plt\n",
        "\n",
        "\n",
        "import torch\n",
        "import torchvision\n",
        "from torchvision import datasets, transforms\n",
        "from torch.utils.data import DataLoader, Dataset\n",
        "import torch.nn.functional as F\n",
        "from torch import nn\n",
        "from torch.autograd import grad"
      ]
    },
    {
      "cell_type": "code",
      "source": [
        "if torch.cuda.is_available():\n",
        "  device = torch.device(\"cuda\")\n",
        "else:\n",
        "  device = torch.device(\"cpu\")\n"
      ],
      "metadata": {
        "id": "EBePtowFZeDl"
      },
      "execution_count": 2,
      "outputs": []
    },
    {
      "cell_type": "markdown",
      "source": [
        "#`Data`"
      ],
      "metadata": {
        "id": "5Awfc4_Za5wt"
      }
    },
    {
      "cell_type": "code",
      "source": [
        "tfms = transforms.Compose([\n",
        "    transforms.Resize(size = (28,28)),\n",
        "    transforms.ToTensor(),\n",
        "    transforms.Normalize(mean = 0.5, std = 0.5)\n",
        "])"
      ],
      "metadata": {
        "id": "fy1oGu2BZqg7"
      },
      "execution_count": 3,
      "outputs": []
    },
    {
      "cell_type": "code",
      "source": [
        "MNIST_train = datasets.MNIST(\n",
        "    root = \"data\",\n",
        "    train = True,\n",
        "    download = True,\n",
        "    transform = tfms\n",
        ")\n",
        "\n",
        "MNIST_test = datasets.MNIST(\n",
        "    root = \"data\",\n",
        "    train = False,\n",
        "    download = True,\n",
        "    transform = tfms\n",
        ")\n",
        "\n",
        "USPS_train = datasets.USPS(\n",
        "    root = \"data\",\n",
        "    train = True,\n",
        "    download = True,\n",
        "    transform = tfms\n",
        ")\n",
        "\n",
        "USPS_test = datasets.USPS(\n",
        "    root = \"data\",\n",
        "    train = False,\n",
        "    download = True,\n",
        "    transform = tfms\n",
        ")"
      ],
      "metadata": {
        "colab": {
          "base_uri": "https://localhost:8080/"
        },
        "id": "BehtwuhgZs8_",
        "outputId": "2d0b0a46-a939-44c4-a379-672746ffb639"
      },
      "execution_count": 4,
      "outputs": [
        {
          "output_type": "stream",
          "name": "stdout",
          "text": [
            "Downloading http://yann.lecun.com/exdb/mnist/train-images-idx3-ubyte.gz\n",
            "Failed to download (trying next):\n",
            "HTTP Error 403: Forbidden\n",
            "\n",
            "Downloading https://ossci-datasets.s3.amazonaws.com/mnist/train-images-idx3-ubyte.gz\n",
            "Downloading https://ossci-datasets.s3.amazonaws.com/mnist/train-images-idx3-ubyte.gz to data/MNIST/raw/train-images-idx3-ubyte.gz\n"
          ]
        },
        {
          "output_type": "stream",
          "name": "stderr",
          "text": [
            "100%|██████████| 9912422/9912422 [00:00<00:00, 17633735.76it/s]\n"
          ]
        },
        {
          "output_type": "stream",
          "name": "stdout",
          "text": [
            "Extracting data/MNIST/raw/train-images-idx3-ubyte.gz to data/MNIST/raw\n",
            "\n",
            "Downloading http://yann.lecun.com/exdb/mnist/train-labels-idx1-ubyte.gz\n",
            "Failed to download (trying next):\n",
            "HTTP Error 403: Forbidden\n",
            "\n",
            "Downloading https://ossci-datasets.s3.amazonaws.com/mnist/train-labels-idx1-ubyte.gz\n",
            "Downloading https://ossci-datasets.s3.amazonaws.com/mnist/train-labels-idx1-ubyte.gz to data/MNIST/raw/train-labels-idx1-ubyte.gz\n"
          ]
        },
        {
          "output_type": "stream",
          "name": "stderr",
          "text": [
            "100%|██████████| 28881/28881 [00:00<00:00, 477124.44it/s]\n"
          ]
        },
        {
          "output_type": "stream",
          "name": "stdout",
          "text": [
            "Extracting data/MNIST/raw/train-labels-idx1-ubyte.gz to data/MNIST/raw\n",
            "\n",
            "Downloading http://yann.lecun.com/exdb/mnist/t10k-images-idx3-ubyte.gz\n",
            "Failed to download (trying next):\n",
            "HTTP Error 403: Forbidden\n",
            "\n",
            "Downloading https://ossci-datasets.s3.amazonaws.com/mnist/t10k-images-idx3-ubyte.gz\n",
            "Downloading https://ossci-datasets.s3.amazonaws.com/mnist/t10k-images-idx3-ubyte.gz to data/MNIST/raw/t10k-images-idx3-ubyte.gz\n"
          ]
        },
        {
          "output_type": "stream",
          "name": "stderr",
          "text": [
            "100%|██████████| 1648877/1648877 [00:00<00:00, 4406839.63it/s]\n"
          ]
        },
        {
          "output_type": "stream",
          "name": "stdout",
          "text": [
            "Extracting data/MNIST/raw/t10k-images-idx3-ubyte.gz to data/MNIST/raw\n",
            "\n",
            "Downloading http://yann.lecun.com/exdb/mnist/t10k-labels-idx1-ubyte.gz\n",
            "Failed to download (trying next):\n",
            "HTTP Error 403: Forbidden\n",
            "\n",
            "Downloading https://ossci-datasets.s3.amazonaws.com/mnist/t10k-labels-idx1-ubyte.gz\n",
            "Downloading https://ossci-datasets.s3.amazonaws.com/mnist/t10k-labels-idx1-ubyte.gz to data/MNIST/raw/t10k-labels-idx1-ubyte.gz\n"
          ]
        },
        {
          "output_type": "stream",
          "name": "stderr",
          "text": [
            "100%|██████████| 4542/4542 [00:00<00:00, 3857163.14it/s]\n"
          ]
        },
        {
          "output_type": "stream",
          "name": "stdout",
          "text": [
            "Extracting data/MNIST/raw/t10k-labels-idx1-ubyte.gz to data/MNIST/raw\n",
            "\n",
            "Downloading https://www.csie.ntu.edu.tw/~cjlin/libsvmtools/datasets/multiclass/usps.bz2 to data/usps.bz2\n"
          ]
        },
        {
          "output_type": "stream",
          "name": "stderr",
          "text": [
            "100%|██████████| 6579383/6579383 [00:01<00:00, 5857309.02it/s] \n"
          ]
        },
        {
          "output_type": "stream",
          "name": "stdout",
          "text": [
            "Downloading https://www.csie.ntu.edu.tw/~cjlin/libsvmtools/datasets/multiclass/usps.t.bz2 to data/usps.t.bz2\n"
          ]
        },
        {
          "output_type": "stream",
          "name": "stderr",
          "text": [
            "100%|██████████| 1831726/1831726 [00:00<00:00, 2111214.65it/s]\n"
          ]
        }
      ]
    },
    {
      "cell_type": "code",
      "source": [
        "\n",
        "source_train_dl = DataLoader(dataset = MNIST_train, batch_size = 128, shuffle = True)\n",
        "source_test_dl = DataLoader(dataset = MNIST_test, batch_size = 128, shuffle = False)\n",
        "\n",
        "target_train_dl = DataLoader(dataset=USPS_train, batch_size = 128, shuffle = True)\n",
        "target_test_dl = DataLoader(dataset = USPS_test, batch_size=128, shuffle = False)"
      ],
      "metadata": {
        "id": "eVz4XLwTZweE"
      },
      "execution_count": 5,
      "outputs": []
    },
    {
      "cell_type": "code",
      "source": [
        "image, label = next(iter(source_train_dl))\n",
        "outs = torchvision.utils.make_grid(image)\n",
        "\n",
        "plt.imshow(outs.permute(1,2,0))\n",
        "plt.axis(\"off\")\n",
        "plt.show()"
      ],
      "metadata": {
        "colab": {
          "base_uri": "https://localhost:8080/",
          "height": 424
        },
        "id": "2ut0FUwRZzZ0",
        "outputId": "18436971-e83e-4f26-bdb2-bb7b1c0b4db8"
      },
      "execution_count": 6,
      "outputs": [
        {
          "output_type": "stream",
          "name": "stderr",
          "text": [
            "WARNING:matplotlib.image:Clipping input data to the valid range for imshow with RGB data ([0..1] for floats or [0..255] for integers).\n"
          ]
        },
        {
          "output_type": "display_data",
          "data": {
            "text/plain": [
              "<Figure size 640x480 with 1 Axes>"
            ],
            "image/png": "[encoded data removed]"
          },
          "metadata": {}
        }
      ]
    },
    {
      "cell_type": "code",
      "source": [
        "image, label = next(iter(target_train_dl))\n",
        "outs = torchvision.utils.make_grid(image)\n",
        "\n",
        "plt.imshow(outs.permute(1,2,0))\n",
        "plt.axis(\"off\")\n",
        "plt.show()\n"
      ],
      "metadata": {
        "colab": {
          "base_uri": "https://localhost:8080/",
          "height": 424
        },
        "id": "cAahbkoEZ1JN",
        "outputId": "33cb76f4-0cae-432d-a334-645facae56e9"
      },
      "execution_count": 7,
      "outputs": [
        {
          "output_type": "stream",
          "name": "stderr",
          "text": [
            "WARNING:matplotlib.image:Clipping input data to the valid range for imshow with RGB data ([0..1] for floats or [0..255] for integers).\n"
          ]
        },
        {
          "output_type": "display_data",
          "data": {
            "text/plain": [
              "<Figure size 640x480 with 1 Axes>"
            ],
            "image/png": "[encoded data removed]"
          },
          "metadata": {}
        }
      ]
    },
    {
      "cell_type": "markdown",
      "source": [
        "#`Function`"
      ],
      "metadata": {
        "id": "SeYNKzoHa8P8"
      }
    },
    {
      "cell_type": "code",
      "source": [
        "def discrepancy_loss(f1,f2):\n",
        "  return torch.mean(torch.abs(F.softmax(f1) - F.softmax(f2)))"
      ],
      "metadata": {
        "id": "xmcI8yRyZ4FJ"
      },
      "execution_count": 8,
      "outputs": []
    },
    {
      "cell_type": "code",
      "source": [
        "def loss_GD(gs, gt):\n",
        "\n",
        "  res = 1 - ((gs.T @ gt)/(torch.norm(gs, p=2) * torch.norm(gt, p = 2)))\n",
        "  return res"
      ],
      "metadata": {
        "id": "qfJ_O-CsZ7IN"
      },
      "execution_count": 9,
      "outputs": []
    },
    {
      "cell_type": "code",
      "source": [
        "def mean_grad(g1,g2):\n",
        "  return torch.mean(g1,g2)"
      ],
      "metadata": {
        "id": "gpatpyDBcRK5"
      },
      "execution_count": 10,
      "outputs": []
    },
    {
      "cell_type": "code",
      "source": [
        "def ck(F1,F2, G, xt):\n",
        "\n",
        "  res_1 = torch.sum(F.softmax(F1(G(xt)))) * G(xt)\n",
        "  res_2 = torch.sum(F.softmax(F2(G(xt)))) * G(xt)\n",
        "\n",
        "  res_3 = torch.sum(F.softmax(F1(G(xt))))\n",
        "  res_4 = torch.sum(F.softmax(F2(G(xt))))\n",
        "\n",
        "  res = (res_1 + res_2) / (res_3 + res_4)\n",
        "\n",
        "  return res\n",
        "\n"
      ],
      "metadata": {
        "id": "343gjjn1clfL"
      },
      "execution_count": 11,
      "outputs": []
    },
    {
      "cell_type": "code",
      "source": [
        "def pseudo_label(G,xt,ck, k =10):\n",
        "\n",
        "  print(F.pairwise_distance(G(xt), ck))\n",
        "\n",
        "  return torch.argmin(F.pairwise_distance(G(xt), ck))"
      ],
      "metadata": {
        "id": "7H1-KfAvfMAx"
      },
      "execution_count": 12,
      "outputs": []
    },
    {
      "cell_type": "code",
      "source": [
        "x = torch.tensor([1,2,3], dtype = torch.float32)\n",
        "torch.norm(x, p = 2)"
      ],
      "metadata": {
        "colab": {
          "base_uri": "https://localhost:8080/"
        },
        "id": "kbvVqwlXbosr",
        "outputId": "67ab903a-fd4b-4adb-f6f2-04ed4f0d187c"
      },
      "execution_count": 13,
      "outputs": [
        {
          "output_type": "execute_result",
          "data": {
            "text/plain": [
              "tensor(3.7417)"
            ]
          },
          "metadata": {},
          "execution_count": 13
        }
      ]
    },
    {
      "cell_type": "markdown",
      "source": [
        "#`Models`"
      ],
      "metadata": {
        "id": "ITyaBIIUbCoz"
      }
    },
    {
      "cell_type": "code",
      "source": [
        "class Generator(nn.Module):\n",
        "    \"\"\"LeNet encoder model for ADDA.\"\"\"\n",
        "\n",
        "    def __init__(self):\n",
        "      super(Generator, self).__init__()\n",
        "      self.conv1 = nn.Conv2d(1, 32, kernel_size=5, stride=1)\n",
        "      self.bn1 = nn.BatchNorm2d(32)\n",
        "      self.conv2 = nn.Conv2d(32, 48, kernel_size=5, stride=1)\n",
        "      self.bn2 = nn.BatchNorm2d(48)\n",
        "\n",
        "    def forward(self, x):\n",
        "        x = torch.mean(x,1).view(x.size()[0],1,x.size()[2],x.size()[3])\n",
        "        x = F.max_pool2d(F.relu(self.bn1(self.conv1(x))), stride=2, kernel_size=2, dilation=(1, 1))\n",
        "        x = F.max_pool2d(F.relu(self.bn2(self.conv2(x))), stride=2, kernel_size=2, dilation=(1, 1))\n",
        "        #print(x.size())\n",
        "        x = x.view(x.size(0), 48*4*4)\n",
        "        return x\n"
      ],
      "metadata": {
        "id": "fee3xeYQbD6M"
      },
      "execution_count": 14,
      "outputs": []
    },
    {
      "cell_type": "code",
      "source": [
        "class Classifier(nn.Module):\n",
        "    def __init__(self, prob=0.5):\n",
        "          super(Classifier, self).__init__()\n",
        "          self.fc1 = nn.Linear(48*4*4, 100)\n",
        "          self.bn1_fc = nn.BatchNorm1d(100)\n",
        "          self.fc2 = nn.Linear(100, 100)\n",
        "          self.bn2_fc = nn.BatchNorm1d(100)\n",
        "          self.fc3 = nn.Linear(100, 10)\n",
        "          self.bn_fc3 = nn.BatchNorm1d(10)\n",
        "          self.prob = prob\n",
        "\n",
        "    def set_lambda(self, lambd):\n",
        "        self.lambd = lambd\n",
        "    def forward(self, x):\n",
        "        x = F.dropout(x, training=self.training, p=self.prob)\n",
        "        x = F.relu(self.bn1_fc(self.fc1(x)))\n",
        "        x = F.dropout(x, training=self.training, p=self.prob)\n",
        "        x = F.relu(self.bn2_fc(self.fc2(x)))\n",
        "        x = F.dropout(x, training=self.training, p=self.prob)\n",
        "        x = self.fc3(x)\n",
        "        return x"
      ],
      "metadata": {
        "id": "V6GxdrfcbEXG"
      },
      "execution_count": 15,
      "outputs": []
    },
    {
      "cell_type": "code",
      "source": [
        "\n",
        "G = Generator().to(device)\n",
        "F1 = Classifier().to(device)\n",
        "F2 = Classifier().to(device)"
      ],
      "metadata": {
        "id": "OMbdxcHPbHoJ"
      },
      "execution_count": 16,
      "outputs": []
    },
    {
      "cell_type": "code",
      "source": [
        "xt = torch.rand(size = (16,1,28,28))\n",
        "z = G(xt)\n",
        "print(z.shape)\n",
        "y = ck(F1, F2, G, xt)"
      ],
      "metadata": {
        "colab": {
          "base_uri": "https://localhost:8080/",
          "height": 372
        },
        "id": "eeIFMzErbKgO",
        "outputId": "9fb6900b-cbb4-4cdd-e1bd-8670dc451ce0"
      },
      "execution_count": 17,
      "outputs": [
        {
          "output_type": "error",
          "ename": "RuntimeError",
          "evalue": "Input type (torch.FloatTensor) and weight type (torch.cuda.FloatTensor) should be the same or input should be a MKLDNN tensor and weight is a dense tensor",
          "traceback": [
            "\u001b[0;31m---------------------------------------------------------------------------\u001b[0m",
            "\u001b[0;31mRuntimeError\u001b[0m                              Traceback (most recent call last)",
            "\u001b[0;32m<ipython-input-17-71b8e48a23ba>\u001b[0m in \u001b[0;36m<cell line: 2>\u001b[0;34m()\u001b[0m\n\u001b[1;32m      1\u001b[0m \u001b[0mxt\u001b[0m \u001b[0;34m=\u001b[0m \u001b[0mtorch\u001b[0m\u001b[0;34m.\u001b[0m\u001b[0mrand\u001b[0m\u001b[0;34m(\u001b[0m\u001b[0msize\u001b[0m \u001b[0;34m=\u001b[0m \u001b[0;34m(\u001b[0m\u001b[0;36m16\u001b[0m\u001b[0;34m,\u001b[0m\u001b[0;36m1\u001b[0m\u001b[0;34m,\u001b[0m\u001b[0;36m28\u001b[0m\u001b[0;34m,\u001b[0m\u001b[0;36m28\u001b[0m\u001b[0;34m)\u001b[0m\u001b[0;34m)\u001b[0m\u001b[0;34m\u001b[0m\u001b[0;34m\u001b[0m\u001b[0m\n\u001b[0;32m----> 2\u001b[0;31m \u001b[0mz\u001b[0m \u001b[0;34m=\u001b[0m \u001b[0mG\u001b[0m\u001b[0;34m(\u001b[0m\u001b[0mxt\u001b[0m\u001b[0;34m)\u001b[0m\u001b[0;34m\u001b[0m\u001b[0;34m\u001b[0m\u001b[0m\n\u001b[0m\u001b[1;32m      3\u001b[0m \u001b[0mprint\u001b[0m\u001b[0;34m(\u001b[0m\u001b[0mz\u001b[0m\u001b[0;34m.\u001b[0m\u001b[0mshape\u001b[0m\u001b[0;34m)\u001b[0m\u001b[0;34m\u001b[0m\u001b[0;34m\u001b[0m\u001b[0m\n\u001b[1;32m      4\u001b[0m \u001b[0my\u001b[0m \u001b[0;34m=\u001b[0m \u001b[0mck\u001b[0m\u001b[0;34m(\u001b[0m\u001b[0mF1\u001b[0m\u001b[0;34m,\u001b[0m \u001b[0mF2\u001b[0m\u001b[0;34m,\u001b[0m \u001b[0mG\u001b[0m\u001b[0;34m,\u001b[0m \u001b[0mxt\u001b[0m\u001b[0;34m)\u001b[0m\u001b[0;34m\u001b[0m\u001b[0;34m\u001b[0m\u001b[0m\n",
            "\u001b[0;32m/usr/local/lib/python3.10/dist-packages/torch/nn/modules/module.py\u001b[0m in \u001b[0;36m_wrapped_call_impl\u001b[0;34m(self, *args, **kwargs)\u001b[0m\n\u001b[1;32m   1530\u001b[0m             \u001b[0;32mreturn\u001b[0m \u001b[0mself\u001b[0m\u001b[0;34m.\u001b[0m\u001b[0m_compiled_call_impl\u001b[0m\u001b[0;34m(\u001b[0m\u001b[0;34m*\u001b[0m\u001b[0margs\u001b[0m\u001b[0;34m,\u001b[0m \u001b[0;34m**\u001b[0m\u001b[0mkwargs\u001b[0m\u001b[0;34m)\u001b[0m  \u001b[0;31m# type: ignore[misc]\u001b[0m\u001b[0;34m\u001b[0m\u001b[0;34m\u001b[0m\u001b[0m\n\u001b[1;32m   1531\u001b[0m         \u001b[0;32melse\u001b[0m\u001b[0;34m:\u001b[0m\u001b[0;34m\u001b[0m\u001b[0;34m\u001b[0m\u001b[0m\n\u001b[0;32m-> 1532\u001b[0;31m             \u001b[0;32mreturn\u001b[0m \u001b[0mself\u001b[0m\u001b[0;34m.\u001b[0m\u001b[0m_call_impl\u001b[0m\u001b[0;34m(\u001b[0m\u001b[0;34m*\u001b[0m\u001b[0margs\u001b[0m\u001b[0;34m,\u001b[0m \u001b[0;34m**\u001b[0m\u001b[0mkwargs\u001b[0m\u001b[0;34m)\u001b[0m\u001b[0;34m\u001b[0m\u001b[0;34m\u001b[0m\u001b[0m\n\u001b[0m\u001b[1;32m   1533\u001b[0m \u001b[0;34m\u001b[0m\u001b[0m\n\u001b[1;32m   1534\u001b[0m     \u001b[0;32mdef\u001b[0m \u001b[0m_call_impl\u001b[0m\u001b[0;34m(\u001b[0m\u001b[0mself\u001b[0m\u001b[0;34m,\u001b[0m \u001b[0;34m*\u001b[0m\u001b[0margs\u001b[0m\u001b[0;34m,\u001b[0m \u001b[0;34m**\u001b[0m\u001b[0mkwargs\u001b[0m\u001b[0;34m)\u001b[0m\u001b[0;34m:\u001b[0m\u001b[0;34m\u001b[0m\u001b[0;34m\u001b[0m\u001b[0m\n",
            "\u001b[0;32m/usr/local/lib/python3.10/dist-packages/torch/nn/modules/module.py\u001b[0m in \u001b[0;36m_call_impl\u001b[0;34m(self, *args, **kwargs)\u001b[0m\n\u001b[1;32m   1539\u001b[0m                 \u001b[0;32mor\u001b[0m \u001b[0m_global_backward_pre_hooks\u001b[0m \u001b[0;32mor\u001b[0m \u001b[0m_global_backward_hooks\u001b[0m\u001b[0;34m\u001b[0m\u001b[0;34m\u001b[0m\u001b[0m\n\u001b[1;32m   1540\u001b[0m                 or _global_forward_hooks or _global_forward_pre_hooks):\n\u001b[0;32m-> 1541\u001b[0;31m             \u001b[0;32mreturn\u001b[0m \u001b[0mforward_call\u001b[0m\u001b[0;34m(\u001b[0m\u001b[0;34m*\u001b[0m\u001b[0margs\u001b[0m\u001b[0;34m,\u001b[0m \u001b[0;34m**\u001b[0m\u001b[0mkwargs\u001b[0m\u001b[0;34m)\u001b[0m\u001b[0;34m\u001b[0m\u001b[0;34m\u001b[0m\u001b[0m\n\u001b[0m\u001b[1;32m   1542\u001b[0m \u001b[0;34m\u001b[0m\u001b[0m\n\u001b[1;32m   1543\u001b[0m         \u001b[0;32mtry\u001b[0m\u001b[0;34m:\u001b[0m\u001b[0;34m\u001b[0m\u001b[0;34m\u001b[0m\u001b[0m\n",
            "\u001b[0;32m<ipython-input-14-2e198a82d632>\u001b[0m in \u001b[0;36mforward\u001b[0;34m(self, x)\u001b[0m\n\u001b[1;32m     11\u001b[0m     \u001b[0;32mdef\u001b[0m \u001b[0mforward\u001b[0m\u001b[0;34m(\u001b[0m\u001b[0mself\u001b[0m\u001b[0;34m,\u001b[0m \u001b[0mx\u001b[0m\u001b[0;34m)\u001b[0m\u001b[0;34m:\u001b[0m\u001b[0;34m\u001b[0m\u001b[0;34m\u001b[0m\u001b[0m\n\u001b[1;32m     12\u001b[0m         \u001b[0mx\u001b[0m \u001b[0;34m=\u001b[0m \u001b[0mtorch\u001b[0m\u001b[0;34m.\u001b[0m\u001b[0mmean\u001b[0m\u001b[0;34m(\u001b[0m\u001b[0mx\u001b[0m\u001b[0;34m,\u001b[0m\u001b[0;36m1\u001b[0m\u001b[0;34m)\u001b[0m\u001b[0;34m.\u001b[0m\u001b[0mview\u001b[0m\u001b[0;34m(\u001b[0m\u001b[0mx\u001b[0m\u001b[0;34m.\u001b[0m\u001b[0msize\u001b[0m\u001b[0;34m(\u001b[0m\u001b[0;34m)\u001b[0m\u001b[0;34m[\u001b[0m\u001b[0;36m0\u001b[0m\u001b[0;34m]\u001b[0m\u001b[0;34m,\u001b[0m\u001b[0;36m1\u001b[0m\u001b[0;34m,\u001b[0m\u001b[0mx\u001b[0m\u001b[0;34m.\u001b[0m\u001b[0msize\u001b[0m\u001b[0;34m(\u001b[0m\u001b[0;34m)\u001b[0m\u001b[0;34m[\u001b[0m\u001b[0;36m2\u001b[0m\u001b[0;34m]\u001b[0m\u001b[0;34m,\u001b[0m\u001b[0mx\u001b[0m\u001b[0;34m.\u001b[0m\u001b[0msize\u001b[0m\u001b[0;34m(\u001b[0m\u001b[0;34m)\u001b[0m\u001b[0;34m[\u001b[0m\u001b[0;36m3\u001b[0m\u001b[0;34m]\u001b[0m\u001b[0;34m)\u001b[0m\u001b[0;34m\u001b[0m\u001b[0;34m\u001b[0m\u001b[0m\n\u001b[0;32m---> 13\u001b[0;31m         \u001b[0mx\u001b[0m \u001b[0;34m=\u001b[0m \u001b[0mF\u001b[0m\u001b[0;34m.\u001b[0m\u001b[0mmax_pool2d\u001b[0m\u001b[0;34m(\u001b[0m\u001b[0mF\u001b[0m\u001b[0;34m.\u001b[0m\u001b[0mrelu\u001b[0m\u001b[0;34m(\u001b[0m\u001b[0mself\u001b[0m\u001b[0;34m.\u001b[0m\u001b[0mbn1\u001b[0m\u001b[0;34m(\u001b[0m\u001b[0mself\u001b[0m\u001b[0;34m.\u001b[0m\u001b[0mconv1\u001b[0m\u001b[0;34m(\u001b[0m\u001b[0mx\u001b[0m\u001b[0;34m)\u001b[0m\u001b[0;34m)\u001b[0m\u001b[0;34m)\u001b[0m\u001b[0;34m,\u001b[0m \u001b[0mstride\u001b[0m\u001b[0;34m=\u001b[0m\u001b[0;36m2\u001b[0m\u001b[0;34m,\u001b[0m \u001b[0mkernel_size\u001b[0m\u001b[0;34m=\u001b[0m\u001b[0;36m2\u001b[0m\u001b[0;34m,\u001b[0m \u001b[0mdilation\u001b[0m\u001b[0;34m=\u001b[0m\u001b[0;34m(\u001b[0m\u001b[0;36m1\u001b[0m\u001b[0;34m,\u001b[0m \u001b[0;36m1\u001b[0m\u001b[0;34m)\u001b[0m\u001b[0;34m)\u001b[0m\u001b[0;34m\u001b[0m\u001b[0;34m\u001b[0m\u001b[0m\n\u001b[0m\u001b[1;32m     14\u001b[0m         \u001b[0mx\u001b[0m \u001b[0;34m=\u001b[0m \u001b[0mF\u001b[0m\u001b[0;34m.\u001b[0m\u001b[0mmax_pool2d\u001b[0m\u001b[0;34m(\u001b[0m\u001b[0mF\u001b[0m\u001b[0;34m.\u001b[0m\u001b[0mrelu\u001b[0m\u001b[0;34m(\u001b[0m\u001b[0mself\u001b[0m\u001b[0;34m.\u001b[0m\u001b[0mbn2\u001b[0m\u001b[0;34m(\u001b[0m\u001b[0mself\u001b[0m\u001b[0;34m.\u001b[0m\u001b[0mconv2\u001b[0m\u001b[0;34m(\u001b[0m\u001b[0mx\u001b[0m\u001b[0;34m)\u001b[0m\u001b[0;34m)\u001b[0m\u001b[0;34m)\u001b[0m\u001b[0;34m,\u001b[0m \u001b[0mstride\u001b[0m\u001b[0;34m=\u001b[0m\u001b[0;36m2\u001b[0m\u001b[0;34m,\u001b[0m \u001b[0mkernel_size\u001b[0m\u001b[0;34m=\u001b[0m\u001b[0;36m2\u001b[0m\u001b[0;34m,\u001b[0m \u001b[0mdilation\u001b[0m\u001b[0;34m=\u001b[0m\u001b[0;34m(\u001b[0m\u001b[0;36m1\u001b[0m\u001b[0;34m,\u001b[0m \u001b[0;36m1\u001b[0m\u001b[0;34m)\u001b[0m\u001b[0;34m)\u001b[0m\u001b[0;34m\u001b[0m\u001b[0;34m\u001b[0m\u001b[0m\n\u001b[1;32m     15\u001b[0m         \u001b[0;31m#print(x.size())\u001b[0m\u001b[0;34m\u001b[0m\u001b[0;34m\u001b[0m\u001b[0m\n",
            "\u001b[0;32m/usr/local/lib/python3.10/dist-packages/torch/nn/modules/module.py\u001b[0m in \u001b[0;36m_wrapped_call_impl\u001b[0;34m(self, *args, **kwargs)\u001b[0m\n\u001b[1;32m   1530\u001b[0m             \u001b[0;32mreturn\u001b[0m \u001b[0mself\u001b[0m\u001b[0;34m.\u001b[0m\u001b[0m_compiled_call_impl\u001b[0m\u001b[0;34m(\u001b[0m\u001b[0;34m*\u001b[0m\u001b[0margs\u001b[0m\u001b[0;34m,\u001b[0m \u001b[0;34m**\u001b[0m\u001b[0mkwargs\u001b[0m\u001b[0;34m)\u001b[0m  \u001b[0;31m# type: ignore[misc]\u001b[0m\u001b[0;34m\u001b[0m\u001b[0;34m\u001b[0m\u001b[0m\n\u001b[1;32m   1531\u001b[0m         \u001b[0;32melse\u001b[0m\u001b[0;34m:\u001b[0m\u001b[0;34m\u001b[0m\u001b[0;34m\u001b[0m\u001b[0m\n\u001b[0;32m-> 1532\u001b[0;31m             \u001b[0;32mreturn\u001b[0m \u001b[0mself\u001b[0m\u001b[0;34m.\u001b[0m\u001b[0m_call_impl\u001b[0m\u001b[0;34m(\u001b[0m\u001b[0;34m*\u001b[0m\u001b[0margs\u001b[0m\u001b[0;34m,\u001b[0m \u001b[0;34m**\u001b[0m\u001b[0mkwargs\u001b[0m\u001b[0;34m)\u001b[0m\u001b[0;34m\u001b[0m\u001b[0;34m\u001b[0m\u001b[0m\n\u001b[0m\u001b[1;32m   1533\u001b[0m \u001b[0;34m\u001b[0m\u001b[0m\n\u001b[1;32m   1534\u001b[0m     \u001b[0;32mdef\u001b[0m \u001b[0m_call_impl\u001b[0m\u001b[0;34m(\u001b[0m\u001b[0mself\u001b[0m\u001b[0;34m,\u001b[0m \u001b[0;34m*\u001b[0m\u001b[0margs\u001b[0m\u001b[0;34m,\u001b[0m \u001b[0;34m**\u001b[0m\u001b[0mkwargs\u001b[0m\u001b[0;34m)\u001b[0m\u001b[0;34m:\u001b[0m\u001b[0;34m\u001b[0m\u001b[0;34m\u001b[0m\u001b[0m\n",
            "\u001b[0;32m/usr/local/lib/python3.10/dist-packages/torch/nn/modules/module.py\u001b[0m in \u001b[0;36m_call_impl\u001b[0;34m(self, *args, **kwargs)\u001b[0m\n\u001b[1;32m   1539\u001b[0m                 \u001b[0;32mor\u001b[0m \u001b[0m_global_backward_pre_hooks\u001b[0m \u001b[0;32mor\u001b[0m \u001b[0m_global_backward_hooks\u001b[0m\u001b[0;34m\u001b[0m\u001b[0;34m\u001b[0m\u001b[0m\n\u001b[1;32m   1540\u001b[0m                 or _global_forward_hooks or _global_forward_pre_hooks):\n\u001b[0;32m-> 1541\u001b[0;31m             \u001b[0;32mreturn\u001b[0m \u001b[0mforward_call\u001b[0m\u001b[0;34m(\u001b[0m\u001b[0;34m*\u001b[0m\u001b[0margs\u001b[0m\u001b[0;34m,\u001b[0m \u001b[0;34m**\u001b[0m\u001b[0mkwargs\u001b[0m\u001b[0;34m)\u001b[0m\u001b[0;34m\u001b[0m\u001b[0;34m\u001b[0m\u001b[0m\n\u001b[0m\u001b[1;32m   1542\u001b[0m \u001b[0;34m\u001b[0m\u001b[0m\n\u001b[1;32m   1543\u001b[0m         \u001b[0;32mtry\u001b[0m\u001b[0;34m:\u001b[0m\u001b[0;34m\u001b[0m\u001b[0;34m\u001b[0m\u001b[0m\n",
            "\u001b[0;32m/usr/local/lib/python3.10/dist-packages/torch/nn/modules/conv.py\u001b[0m in \u001b[0;36mforward\u001b[0;34m(self, input)\u001b[0m\n\u001b[1;32m    458\u001b[0m \u001b[0;34m\u001b[0m\u001b[0m\n\u001b[1;32m    459\u001b[0m     \u001b[0;32mdef\u001b[0m \u001b[0mforward\u001b[0m\u001b[0;34m(\u001b[0m\u001b[0mself\u001b[0m\u001b[0;34m,\u001b[0m \u001b[0minput\u001b[0m\u001b[0;34m:\u001b[0m \u001b[0mTensor\u001b[0m\u001b[0;34m)\u001b[0m \u001b[0;34m->\u001b[0m \u001b[0mTensor\u001b[0m\u001b[0;34m:\u001b[0m\u001b[0;34m\u001b[0m\u001b[0;34m\u001b[0m\u001b[0m\n\u001b[0;32m--> 460\u001b[0;31m         \u001b[0;32mreturn\u001b[0m \u001b[0mself\u001b[0m\u001b[0;34m.\u001b[0m\u001b[0m_conv_forward\u001b[0m\u001b[0;34m(\u001b[0m\u001b[0minput\u001b[0m\u001b[0;34m,\u001b[0m \u001b[0mself\u001b[0m\u001b[0;34m.\u001b[0m\u001b[0mweight\u001b[0m\u001b[0;34m,\u001b[0m \u001b[0mself\u001b[0m\u001b[0;34m.\u001b[0m\u001b[0mbias\u001b[0m\u001b[0;34m)\u001b[0m\u001b[0;34m\u001b[0m\u001b[0;34m\u001b[0m\u001b[0m\n\u001b[0m\u001b[1;32m    461\u001b[0m \u001b[0;34m\u001b[0m\u001b[0m\n\u001b[1;32m    462\u001b[0m \u001b[0;32mclass\u001b[0m \u001b[0mConv3d\u001b[0m\u001b[0;34m(\u001b[0m\u001b[0m_ConvNd\u001b[0m\u001b[0;34m)\u001b[0m\u001b[0;34m:\u001b[0m\u001b[0;34m\u001b[0m\u001b[0;34m\u001b[0m\u001b[0m\n",
            "\u001b[0;32m/usr/local/lib/python3.10/dist-packages/torch/nn/modules/conv.py\u001b[0m in \u001b[0;36m_conv_forward\u001b[0;34m(self, input, weight, bias)\u001b[0m\n\u001b[1;32m    454\u001b[0m                             \u001b[0mweight\u001b[0m\u001b[0;34m,\u001b[0m \u001b[0mbias\u001b[0m\u001b[0;34m,\u001b[0m \u001b[0mself\u001b[0m\u001b[0;34m.\u001b[0m\u001b[0mstride\u001b[0m\u001b[0;34m,\u001b[0m\u001b[0;34m\u001b[0m\u001b[0;34m\u001b[0m\u001b[0m\n\u001b[1;32m    455\u001b[0m                             _pair(0), self.dilation, self.groups)\n\u001b[0;32m--> 456\u001b[0;31m         return F.conv2d(input, weight, bias, self.stride,\n\u001b[0m\u001b[1;32m    457\u001b[0m                         self.padding, self.dilation, self.groups)\n\u001b[1;32m    458\u001b[0m \u001b[0;34m\u001b[0m\u001b[0m\n",
            "\u001b[0;31mRuntimeError\u001b[0m: Input type (torch.FloatTensor) and weight type (torch.cuda.FloatTensor) should be the same or input should be a MKLDNN tensor and weight is a dense tensor"
          ]
        }
      ]
    },
    {
      "cell_type": "code",
      "source": [
        "y.shape"
      ],
      "metadata": {
        "id": "PZ4PmW71d9Mm"
      },
      "execution_count": null,
      "outputs": []
    },
    {
      "cell_type": "code",
      "source": [
        "xx = pseudo_label(G,xt,y)"
      ],
      "metadata": {
        "id": "yMw0ybNzehhc",
        "colab": {
          "base_uri": "https://localhost:8080/",
          "height": 147
        },
        "outputId": "add2f949-fa92-4cc2-a096-cc3e9ba01d2a"
      },
      "execution_count": 18,
      "outputs": [
        {
          "output_type": "error",
          "ename": "NameError",
          "evalue": "name 'y' is not defined",
          "traceback": [
            "\u001b[0;31m---------------------------------------------------------------------------\u001b[0m",
            "\u001b[0;31mNameError\u001b[0m                                 Traceback (most recent call last)",
            "\u001b[0;32m<ipython-input-18-c5d8f470fad2>\u001b[0m in \u001b[0;36m<cell line: 1>\u001b[0;34m()\u001b[0m\n\u001b[0;32m----> 1\u001b[0;31m \u001b[0mxx\u001b[0m \u001b[0;34m=\u001b[0m \u001b[0mpseudo_label\u001b[0m\u001b[0;34m(\u001b[0m\u001b[0mG\u001b[0m\u001b[0;34m,\u001b[0m\u001b[0mxt\u001b[0m\u001b[0;34m,\u001b[0m\u001b[0my\u001b[0m\u001b[0;34m)\u001b[0m\u001b[0;34m\u001b[0m\u001b[0;34m\u001b[0m\u001b[0m\n\u001b[0m",
            "\u001b[0;31mNameError\u001b[0m: name 'y' is not defined"
          ]
        }
      ]
    },
    {
      "cell_type": "code",
      "source": [
        "xx.shape"
      ],
      "metadata": {
        "id": "RR7HtgzQgBF1"
      },
      "execution_count": null,
      "outputs": []
    },
    {
      "cell_type": "code",
      "source": [
        "xx"
      ],
      "metadata": {
        "colab": {
          "base_uri": "https://localhost:8080/",
          "height": 147
        },
        "id": "Be-M9T-vgLF5",
        "outputId": "dddbd670-cdd8-40ba-c10b-c92fff6d698e"
      },
      "execution_count": 19,
      "outputs": [
        {
          "output_type": "error",
          "ename": "NameError",
          "evalue": "name 'xx' is not defined",
          "traceback": [
            "\u001b[0;31m---------------------------------------------------------------------------\u001b[0m",
            "\u001b[0;31mNameError\u001b[0m                                 Traceback (most recent call last)",
            "\u001b[0;32m<ipython-input-19-ce3af7760f12>\u001b[0m in \u001b[0;36m<cell line: 1>\u001b[0;34m()\u001b[0m\n\u001b[0;32m----> 1\u001b[0;31m \u001b[0mxx\u001b[0m\u001b[0;34m\u001b[0m\u001b[0;34m\u001b[0m\u001b[0m\n\u001b[0m",
            "\u001b[0;31mNameError\u001b[0m: name 'xx' is not defined"
          ]
        }
      ]
    },
    {
      "cell_type": "markdown",
      "source": [
        "#`Optimizers`"
      ],
      "metadata": {
        "id": "wm5kuPVdgu_q"
      }
    },
    {
      "cell_type": "code",
      "source": [
        "\n",
        "G_opt = torch.optim.Adam(params = G.parameters(), lr =  1e-4)\n",
        "F1_opt = torch.optim.Adam(params = F1.parameters(), lr =  1e-4)\n",
        "F2_opt = torch.optim.Adam(params = F2.parameters(), lr =  1e-4)"
      ],
      "metadata": {
        "id": "1g7NMmWigMWA"
      },
      "execution_count": 20,
      "outputs": []
    },
    {
      "cell_type": "markdown",
      "source": [
        "#`Train`"
      ],
      "metadata": {
        "id": "dlmrZMUvg892"
      }
    },
    {
      "cell_type": "code",
      "source": [
        "def train(data_s, data_t, G, F1, F2, loss_ce, discrepancy_loss, G_opt, F1_opt, F2_opt, N):\n",
        "  G.train()\n",
        "  F1.train()\n",
        "  F2.train()\n",
        "\n",
        "  size = len(data_s.dataset)\n",
        "\n",
        "  for b, ((x_s,y_s),(x_t,_)) in enumerate(zip(data_s, data_t)):\n",
        "\n",
        "    x_s, y_s, x_t = x_s.to(device), y_s.to(device), x_t.to(device)\n",
        "\n",
        "    # stepA\n",
        "\n",
        "    G_opt.zero_grad()\n",
        "    F1_opt.zero_grad()\n",
        "    F2_opt.zero_grad()\n",
        "\n",
        "    fs_A = G(x_s)\n",
        "    y1_s_A = F1(fs_A)\n",
        "    y2_s_A = F2(fs_A)\n",
        "\n",
        "    loss_1_A = loss_ce(y1_s_A, y_s)\n",
        "    loss_2_A = loss_ce(y2_s_A, y_s)\n",
        "    lossA_1 = loss_1_A + loss_2_A\n",
        "\n",
        "    fps_A = G(x_t)\n",
        "    y1_ps_A = F1(fps_A)\n",
        "    y2_ps_A = F2(fps_A)\n",
        "    y_pseudo = y1_ps_A + y2_ps_A\n",
        "    loss_ps_1_A = loss_ce(y1_ps_A, y_pseudo.argmax(1))\n",
        "    loss_ps_2_A = loss_ce(y2_ps_A, y_pseudo.argmax(1))\n",
        "\n",
        "    lossA_2 = loss_ps_1_A + loss_ps_2_A\n",
        "\n",
        "    lossA = lossA_1 + (0.1 * lossA_2)\n",
        "\n",
        "\n",
        "    lossA.backward()\n",
        "\n",
        "    G_opt.step()\n",
        "    F1_opt.step()\n",
        "    F2_opt.step()\n",
        "\n",
        "\n",
        "    # stepB\n",
        "\n",
        "\n",
        "    G_opt.zero_grad()\n",
        "    F1_opt.zero_grad()\n",
        "    F2_opt.zero_grad()\n",
        "\n",
        "    fs_B = G(x_s)\n",
        "    y1_s_B = F1(fs_B)\n",
        "    y2_s_B = F2(fs_B)\n",
        "    loss_1_B = loss_ce(y1_s_B, y_s)\n",
        "    loss_2_B = loss_ce(y2_s_B, y_s)\n",
        "    loss_ce_B = loss_1_B + loss_2_B\n",
        "\n",
        "    ft_B = G(x_t)\n",
        "    y1_t_B = F1(ft_B)\n",
        "    y2_t_B = F2(ft_B)\n",
        "    loss_adv = discrepancy_loss(y1_t_B, y2_t_B)\n",
        "\n",
        "    lossB = loss_ce_B - loss_adv\n",
        "\n",
        "    lossB.backward()\n",
        "    F1_opt.step()\n",
        "    F2_opt.step()\n",
        "\n",
        "    G_opt.zero_grad()\n",
        "    F1_opt.zero_grad()\n",
        "    F2_opt.zero_grad()\n",
        "\n",
        "    # stepC\n",
        "\n",
        "    for n in range(N):\n",
        "      ft_C = G(x_t)\n",
        "      y1_t_C = F1(ft_C)\n",
        "      y2_t_C = F2(ft_C)\n",
        "      # print(F1(G(x_s)).grad)\n",
        "\n",
        "\n",
        "      rs_C = G(x_s)\n",
        "      y1_rs_C = F1(fps_A)\n",
        "      y2_rs_C = F2(fps_A)\n",
        "      y_pseudo = y1_t_C + y2_t_C\n",
        "\n",
        "\n",
        "      lossC = discrepancy_loss(y1_t_C, y2_t_C)\n",
        "      lossC.backward()\n",
        "\n",
        "      G_opt.step()\n",
        "\n",
        "      G_opt.zero_grad()\n",
        "      F1_opt.zero_grad()\n",
        "      F2_opt.zero_grad()\n",
        "\n",
        "\n",
        "    if b % 100 == 0:\n",
        "      print(f\"lossA:{lossA.item()} lossB:{lossB.item()} lossC:{lossC.item()}\")"
      ],
      "metadata": {
        "id": "QfWFCZbRg2wO"
      },
      "execution_count": 22,
      "outputs": []
    },
    {
      "cell_type": "markdown",
      "source": [
        "#`test`"
      ],
      "metadata": {
        "id": "Tbi5GJiR6ycT"
      }
    },
    {
      "cell_type": "code",
      "source": [
        "def test(data, G, F1, F2, loss_ce):\n",
        "\n",
        "  G.eval()\n",
        "  F1.eval()\n",
        "  F2.eval()\n",
        "\n",
        "  size = len(data.dataset)\n",
        "  num_batch = len(data)\n",
        "\n",
        "  test_acc_1, test_loss_1 = 0,0\n",
        "  test_acc_2, test_loss_2 = 0,0\n",
        "\n",
        "  with torch.no_grad():\n",
        "    for x,y in data:\n",
        "      x,y = x.to(device), y.to(device)\n",
        "\n",
        "      f = G(x)\n",
        "      y1 = F1(f)\n",
        "      y2 = F2(f)\n",
        "      test_loss_1 += loss_ce(y1,y).item()\n",
        "      test_loss_2 += loss_ce(y2,y).item()\n",
        "      test_acc_1 += (y1.argmax(1) == y).type(torch.float).sum().item()\n",
        "      test_acc_2 += (y2.argmax(1) == y).type(torch.float).sum().item()\n",
        "\n",
        "\n",
        "    test_loss_1 /= num_batch\n",
        "    test_loss_2 /= num_batch\n",
        "\n",
        "    test_acc_1 /= size\n",
        "    test_acc_2 /= size\n",
        "\n",
        "    print(f\"F1 loss : {test_loss_1} F1 accuracy: {test_acc_1 * 100}\")\n",
        "    print(f\"F2 loss : {test_loss_2} F2 accuracy: {test_acc_2 * 100}\")"
      ],
      "metadata": {
        "id": "AiNJSxrh0SAu"
      },
      "execution_count": 23,
      "outputs": []
    },
    {
      "cell_type": "markdown",
      "source": [
        "#`Training`"
      ],
      "metadata": {
        "id": "ZohZgUIc66Y5"
      }
    },
    {
      "cell_type": "code",
      "source": [
        "loss_ce = nn.CrossEntropyLoss()"
      ],
      "metadata": {
        "id": "QbLoSot26_zM"
      },
      "execution_count": 24,
      "outputs": []
    },
    {
      "cell_type": "code",
      "source": [
        "\n",
        "for epoch in range(70):\n",
        "  print(f\"epoch : {epoch+1}=-=-=-=-=-=-\")\n",
        "  train(source_train_dl, target_train_dl, G, F1, F2, loss_ce, discrepancy_loss, G_opt, F1_opt, F2_opt, N = 1)\n",
        "  print(f\"target:\")\n",
        "  test(target_train_dl, G, F1, F2, loss_ce)\n",
        "  print(\"source:\")\n",
        "  test(source_test_dl, G, F1, F2, loss_ce)"
      ],
      "metadata": {
        "colab": {
          "base_uri": "https://localhost:8080/"
        },
        "id": "wZTautOk639w",
        "outputId": "fa3d4359-b394-477d-9594-ada762470efd"
      },
      "execution_count": 25,
      "outputs": [
        {
          "output_type": "stream",
          "name": "stdout",
          "text": [
            "epoch : 1=-=-=-=-=-=-\n"
          ]
        },
        {
          "output_type": "stream",
          "name": "stderr",
          "text": [
            "<ipython-input-8-a642ba8e7794>:2: UserWarning: Implicit dimension choice for softmax has been deprecated. Change the call to include dim=X as an argument.\n",
            "  return torch.mean(torch.abs(F.softmax(f1) - F.softmax(f2)))\n"
          ]
        },
        {
          "output_type": "stream",
          "name": "stdout",
          "text": [
            "lossA:5.09080171585083 lossB:4.939769744873047 lossC:0.05449127033352852\n",
            "target:\n",
            "F1 loss : 1.9768358552665042 F1 accuracy: 35.70154985598683\n",
            "F2 loss : 1.934242100046392 F2 accuracy: 40.03566040323687\n",
            "source:\n",
            "F1 loss : 1.6898841073241415 F1 accuracy: 66.17\n",
            "F2 loss : 1.6588039081307906 F2 accuracy: 71.39999999999999\n",
            "epoch : 2=-=-=-=-=-=-\n",
            "lossA:4.149146556854248 lossB:3.7189111709594727 lossC:0.05514798313379288\n",
            "target:\n",
            "F1 loss : 1.7384581544943023 F1 accuracy: 44.0405979975312\n",
            "F2 loss : 1.7165994727820681 F2 accuracy: 44.342339871073925\n",
            "source:\n",
            "F1 loss : 1.215005198611489 F1 accuracy: 76.82\n",
            "F2 loss : 1.1887644876407673 F2 accuracy: 84.2\n",
            "epoch : 3=-=-=-=-=-=-\n",
            "lossA:3.355452060699463 lossB:2.9480605125427246 lossC:0.059097159653902054\n",
            "target:\n",
            "F1 loss : 1.557384683374773 F1 accuracy: 50.130297627211625\n",
            "F2 loss : 1.5470202073716282 F2 accuracy: 49.41708956247428\n",
            "source:\n",
            "F1 loss : 0.8919300059728985 F1 accuracy: 84.04\n",
            "F2 loss : 0.8414222326459764 F2 accuracy: 89.21\n",
            "epoch : 4=-=-=-=-=-=-\n",
            "lossA:2.791912317276001 lossB:2.406101703643799 lossC:0.0636737197637558\n",
            "target:\n",
            "F1 loss : 1.411579734400699 F1 accuracy: 55.3010560965574\n",
            "F2 loss : 1.401928788737247 F2 accuracy: 54.79358112741737\n",
            "source:\n",
            "F1 loss : 0.6824280016029938 F1 accuracy: 87.16000000000001\n",
            "F2 loss : 0.6257668605333642 F2 accuracy: 90.81\n",
            "epoch : 5=-=-=-=-=-=-\n",
            "lossA:2.16770076751709 lossB:2.067680597305298 lossC:0.06918981671333313\n",
            "target:\n",
            "F1 loss : 1.2392671233729313 F1 accuracy: 61.34960910711836\n",
            "F2 loss : 1.2310071890814263 F2 accuracy: 61.32217802770539\n",
            "source:\n",
            "F1 loss : 0.4997595884377443 F1 accuracy: 90.79\n",
            "F2 loss : 0.47359676791142813 F2 accuracy: 92.45\n",
            "epoch : 6=-=-=-=-=-=-\n",
            "lossA:1.9051367044448853 lossB:1.6335680484771729 lossC:0.07044079154729843\n",
            "target:\n",
            "F1 loss : 1.1382914446947867 F1 accuracy: 64.29845014401316\n",
            "F2 loss : 1.1408669101564508 F2 accuracy: 64.02413934988341\n",
            "source:\n",
            "F1 loss : 0.40254405008841165 F1 accuracy: 91.38\n",
            "F2 loss : 0.3840195112213304 F2 accuracy: 92.46\n",
            "epoch : 7=-=-=-=-=-=-\n",
            "lossA:1.606713056564331 lossB:1.3445433378219604 lossC:0.06477521359920502\n",
            "target:\n",
            "F1 loss : 1.046198256183089 F1 accuracy: 66.8906871485393\n",
            "F2 loss : 1.051033453983173 F2 accuracy: 67.13756686325607\n",
            "source:\n",
            "F1 loss : 0.3198940056034281 F1 accuracy: 93.02\n",
            "F2 loss : 0.30601234337951566 F2 accuracy: 93.84\n",
            "epoch : 8=-=-=-=-=-=-\n",
            "lossA:1.1447334289550781 lossB:1.0862276554107666 lossC:0.06485851109027863\n",
            "target:\n",
            "F1 loss : 0.902829673206597 F1 accuracy: 72.50034288849267\n",
            "F2 loss : 0.910947651193853 F2 accuracy: 71.60883280757098\n",
            "source:\n",
            "F1 loss : 0.2734718833448766 F1 accuracy: 93.28999999999999\n",
            "F2 loss : 0.2550088942899734 F2 accuracy: 94.32000000000001\n",
            "epoch : 9=-=-=-=-=-=-\n",
            "lossA:1.1256924867630005 lossB:0.8361555933952332 lossC:0.0634220615029335\n",
            "target:\n",
            "F1 loss : 0.8566607634226481 F1 accuracy: 73.40556850912083\n",
            "F2 loss : 0.8629421529016996 F2 accuracy: 73.30955973117543\n",
            "source:\n",
            "F1 loss : 0.23061047517989255 F1 accuracy: 94.19999999999999\n",
            "F2 loss : 0.21229075107582007 F2 accuracy: 94.87\n",
            "epoch : 10=-=-=-=-=-=-\n",
            "lossA:1.132132649421692 lossB:0.9300728440284729 lossC:0.054996658116579056\n",
            "target:\n",
            "F1 loss : 0.7384813344269469 F1 accuracy: 77.42422164312165\n",
            "F2 loss : 0.7603446558902138 F2 accuracy: 76.38184062542861\n",
            "source:\n",
            "F1 loss : 0.19735001402470884 F1 accuracy: 94.89999999999999\n",
            "F2 loss : 0.17897107782243174 F2 accuracy: 95.45\n",
            "epoch : 11=-=-=-=-=-=-\n",
            "lossA:0.9903364777565002 lossB:0.8849827647209167 lossC:0.061511050909757614\n",
            "target:\n",
            "F1 loss : 0.655573952093459 F1 accuracy: 80.35934714030996\n",
            "F2 loss : 0.6675604817114378 F2 accuracy: 79.5638458373337\n",
            "source:\n",
            "F1 loss : 0.17867287849606592 F1 accuracy: 95.23\n",
            "F2 loss : 0.16405336799312242 F2 accuracy: 95.69\n",
            "epoch : 12=-=-=-=-=-=-\n",
            "lossA:0.834437370300293 lossB:0.724884033203125 lossC:0.05492362007498741\n",
            "target:\n",
            "F1 loss : 0.6446230641582555 F1 accuracy: 80.16732958441915\n",
            "F2 loss : 0.6527259266167357 F2 accuracy: 80.05760526676725\n",
            "source:\n",
            "F1 loss : 0.15040230472819716 F1 accuracy: 95.87\n",
            "F2 loss : 0.1428516350828017 F2 accuracy: 96.15\n",
            "epoch : 13=-=-=-=-=-=-\n",
            "lossA:0.7143991589546204 lossB:0.708770215511322 lossC:0.054528143256902695\n",
            "target:\n",
            "F1 loss : 0.5964229336956091 F1 accuracy: 81.18227952269922\n",
            "F2 loss : 0.582739871322063 F2 accuracy: 82.06007406391441\n",
            "source:\n",
            "F1 loss : 0.14006978021109406 F1 accuracy: 96.04\n",
            "F2 loss : 0.13341380463606572 F2 accuracy: 96.31\n",
            "epoch : 14=-=-=-=-=-=-\n",
            "lossA:0.8224337697029114 lossB:0.5721662640571594 lossC:0.04920768365263939\n",
            "target:\n",
            "F1 loss : 0.5443954985392722 F1 accuracy: 82.34810039775066\n",
            "F2 loss : 0.5609809876533977 F2 accuracy: 82.22466054039226\n",
            "source:\n",
            "F1 loss : 0.13517211648765243 F1 accuracy: 96.02000000000001\n",
            "F2 loss : 0.12670011617997778 F2 accuracy: 96.3\n",
            "epoch : 15=-=-=-=-=-=-\n",
            "lossA:0.7180222868919373 lossB:0.5251420140266418 lossC:0.05449274927377701\n",
            "target:\n",
            "F1 loss : 0.5363013409731681 F1 accuracy: 83.07502400219448\n",
            "F2 loss : 0.5501607248657628 F2 accuracy: 82.47154025510905\n",
            "source:\n",
            "F1 loss : 0.1258584370459371 F1 accuracy: 96.41\n",
            "F2 loss : 0.11393952455748863 F2 accuracy: 96.67999999999999\n",
            "epoch : 16=-=-=-=-=-=-\n",
            "lossA:0.6081409454345703 lossB:0.41571786999702454 lossC:0.050862181931734085\n",
            "target:\n",
            "F1 loss : 0.5222653291727367 F1 accuracy: 83.7196543683994\n",
            "F2 loss : 0.5382079241568583 F2 accuracy: 83.36305033603072\n",
            "source:\n",
            "F1 loss : 0.10126214002883888 F1 accuracy: 97.03\n",
            "F2 loss : 0.09619918113715853 F2 accuracy: 97.24000000000001\n",
            "epoch : 17=-=-=-=-=-=-\n",
            "lossA:0.6134563684463501 lossB:0.4880540370941162 lossC:0.05664893984794617\n",
            "target:\n",
            "F1 loss : 0.5458827891893554 F1 accuracy: 82.16979838156632\n",
            "F2 loss : 0.5569014695652744 F2 accuracy: 81.86805650802359\n",
            "source:\n",
            "F1 loss : 0.09955201402919579 F1 accuracy: 97.09\n",
            "F2 loss : 0.09590700866442316 F2 accuracy: 97.09\n",
            "epoch : 18=-=-=-=-=-=-\n",
            "lossA:0.5207985639572144 lossB:0.3526480793952942 lossC:0.04932564124464989\n",
            "target:\n",
            "F1 loss : 0.4763770275994351 F1 accuracy: 84.43286243313675\n",
            "F2 loss : 0.4924067698026958 F2 accuracy: 83.76080098751886\n",
            "source:\n",
            "F1 loss : 0.11672030960480813 F1 accuracy: 96.55\n",
            "F2 loss : 0.1113714288707964 F2 accuracy: 96.64\n",
            "epoch : 19=-=-=-=-=-=-\n",
            "lossA:0.6385716199874878 lossB:0.47510915994644165 lossC:0.04911037161946297\n",
            "target:\n",
            "F1 loss : 0.4959572114442524 F1 accuracy: 83.51392127280208\n",
            "F2 loss : 0.5317535065768058 F2 accuracy: 82.44410917569607\n",
            "source:\n",
            "F1 loss : 0.098838326998668 F1 accuracy: 96.99\n",
            "F2 loss : 0.09400245165923916 F2 accuracy: 97.18\n",
            "epoch : 20=-=-=-=-=-=-\n",
            "lossA:0.6969291567802429 lossB:0.5197058916091919 lossC:0.03205503150820732\n",
            "target:\n",
            "F1 loss : 0.467123911568993 F1 accuracy: 84.87175970374435\n",
            "F2 loss : 0.49197056628110114 F2 accuracy: 84.30942257577836\n",
            "source:\n",
            "F1 loss : 0.09810061063145913 F1 accuracy: 97.1\n",
            "F2 loss : 0.09203237601661984 F2 accuracy: 97.13000000000001\n",
            "epoch : 21=-=-=-=-=-=-\n",
            "lossA:0.4091475009918213 lossB:0.3883211314678192 lossC:0.039963092654943466\n",
            "target:\n",
            "F1 loss : 0.4027333019072549 F1 accuracy: 87.4365656288575\n",
            "F2 loss : 0.4338446703919193 F2 accuracy: 86.28446029351255\n",
            "source:\n",
            "F1 loss : 0.10088420900975979 F1 accuracy: 96.85000000000001\n",
            "F2 loss : 0.09385703066717598 F2 accuracy: 97.13000000000001\n",
            "epoch : 22=-=-=-=-=-=-\n",
            "lossA:0.4403477609157562 lossB:0.45538681745529175 lossC:0.04523109644651413\n",
            "target:\n",
            "F1 loss : 0.4439285141334199 F1 accuracy: 85.77698532437252\n",
            "F2 loss : 0.45403007927693817 F2 accuracy: 85.63982992730764\n",
            "source:\n",
            "F1 loss : 0.07980350186883271 F1 accuracy: 97.57000000000001\n",
            "F2 loss : 0.07725255915164193 F2 accuracy: 97.5\n",
            "epoch : 23=-=-=-=-=-=-\n",
            "lossA:0.3588555157184601 lossB:0.35295921564102173 lossC:0.03873744606971741\n",
            "target:\n",
            "F1 loss : 0.4149172452458164 F1 accuracy: 86.75078864353313\n",
            "F2 loss : 0.43079832248520433 F2 accuracy: 86.21588259498012\n",
            "source:\n",
            "F1 loss : 0.08739460238455972 F1 accuracy: 97.39\n",
            "F2 loss : 0.08192892410922088 F2 accuracy: 97.34\n",
            "epoch : 24=-=-=-=-=-=-\n",
            "lossA:0.3287888467311859 lossB:0.2073814570903778 lossC:0.04324893280863762\n",
            "target:\n",
            "F1 loss : 0.40785025243173567 F1 accuracy: 87.39541900973803\n",
            "F2 loss : 0.45316124903528315 F2 accuracy: 86.06501165820875\n",
            "source:\n",
            "F1 loss : 0.08736608625990869 F1 accuracy: 97.23\n",
            "F2 loss : 0.07892816987395569 F2 accuracy: 97.39999999999999\n",
            "epoch : 25=-=-=-=-=-=-\n",
            "lossA:0.45786869525909424 lossB:0.34895652532577515 lossC:0.03709251806139946\n",
            "target:\n",
            "F1 loss : 0.424897969814769 F1 accuracy: 86.1335893567412\n",
            "F2 loss : 0.4671088718531424 F2 accuracy: 85.05006171992868\n",
            "source:\n",
            "F1 loss : 0.08252675905882652 F1 accuracy: 97.41\n",
            "F2 loss : 0.07840069584088706 F2 accuracy: 97.45\n",
            "epoch : 26=-=-=-=-=-=-\n",
            "lossA:0.4166635572910309 lossB:0.3220154047012329 lossC:0.03442525491118431\n",
            "target:\n",
            "F1 loss : 0.40390378001489136 F1 accuracy: 87.6422987244548\n",
            "F2 loss : 0.438786563643238 F2 accuracy: 86.58620216705528\n",
            "source:\n",
            "F1 loss : 0.07489592632974344 F1 accuracy: 97.67\n",
            "F2 loss : 0.07261630652112816 F2 accuracy: 97.61\n",
            "epoch : 27=-=-=-=-=-=-\n",
            "lossA:0.7089731693267822 lossB:0.4825765788555145 lossC:0.03135125711560249\n",
            "target:\n",
            "F1 loss : 0.38372305846005156 F1 accuracy: 88.17720477300782\n",
            "F2 loss : 0.41384820561659963 F2 accuracy: 87.57372102592237\n",
            "source:\n",
            "F1 loss : 0.06790800532620825 F1 accuracy: 97.81\n",
            "F2 loss : 0.06733034407319147 F2 accuracy: 97.87\n",
            "epoch : 28=-=-=-=-=-=-\n",
            "lossA:0.43183866143226624 lossB:0.2938860356807709 lossC:0.03400816768407822\n",
            "target:\n",
            "F1 loss : 0.44842234201598585 F1 accuracy: 86.1335893567412\n",
            "F2 loss : 0.47896778949520047 F2 accuracy: 85.3655191331779\n",
            "source:\n",
            "F1 loss : 0.06535394107952384 F1 accuracy: 97.94\n",
            "F2 loss : 0.06465279063522297 F2 accuracy: 97.92999999999999\n",
            "epoch : 29=-=-=-=-=-=-\n",
            "lossA:0.40737271308898926 lossB:0.38695666193962097 lossC:0.03597986325621605\n",
            "target:\n",
            "F1 loss : 0.41201146234545794 F1 accuracy: 87.6422987244548\n",
            "F2 loss : 0.4620662462293056 F2 accuracy: 86.27074475380606\n",
            "source:\n",
            "F1 loss : 0.06220855815277164 F1 accuracy: 98.09\n",
            "F2 loss : 0.06119138831596916 F2 accuracy: 98.0\n",
            "epoch : 30=-=-=-=-=-=-\n",
            "lossA:0.4353311061859131 lossB:0.2479971945285797 lossC:0.03080017864704132\n",
            "target:\n",
            "F1 loss : 0.3911032817865673 F1 accuracy: 87.93032505829105\n",
            "F2 loss : 0.42952457906907066 F2 accuracy: 86.91537512001098\n",
            "source:\n",
            "F1 loss : 0.0666683896288535 F1 accuracy: 97.92999999999999\n",
            "F2 loss : 0.06444514943050998 F2 accuracy: 98.05\n",
            "epoch : 31=-=-=-=-=-=-\n",
            "lossA:0.1831199824810028 lossB:0.1933765858411789 lossC:0.02883775345981121\n",
            "target:\n",
            "F1 loss : 0.4096120499205171 F1 accuracy: 87.2171169935537\n",
            "F2 loss : 0.4472414051231585 F2 accuracy: 86.02386503908929\n",
            "source:\n",
            "F1 loss : 0.06619935287339494 F1 accuracy: 97.94\n",
            "F2 loss : 0.06274303545456238 F2 accuracy: 98.1\n",
            "epoch : 32=-=-=-=-=-=-\n",
            "lossA:0.34545502066612244 lossB:0.41779935359954834 lossC:0.03029809705913067\n",
            "target:\n",
            "F1 loss : 0.4075159281492233 F1 accuracy: 87.93032505829105\n",
            "F2 loss : 0.41905011367379574 F2 accuracy: 87.68344534357428\n",
            "source:\n",
            "F1 loss : 0.061929644203355796 F1 accuracy: 98.14\n",
            "F2 loss : 0.06014351053399187 F2 accuracy: 98.22\n",
            "epoch : 33=-=-=-=-=-=-\n",
            "lossA:0.5758259892463684 lossB:0.4126245081424713 lossC:0.02771340124309063\n",
            "target:\n",
            "F1 loss : 0.3815118309698607 F1 accuracy: 88.6298175833219\n",
            "F2 loss : 0.39989643295605976 F2 accuracy: 88.04004937594294\n",
            "source:\n",
            "F1 loss : 0.07255855360646037 F1 accuracy: 97.81\n",
            "F2 loss : 0.06829099074931509 F2 accuracy: 97.84\n",
            "epoch : 34=-=-=-=-=-=-\n",
            "lossA:0.3196469843387604 lossB:0.3992113173007965 lossC:0.025019681081175804\n",
            "target:\n",
            "F1 loss : 0.37414264182249707 F1 accuracy: 88.67096420244137\n",
            "F2 loss : 0.39525903316966277 F2 accuracy: 88.39665340831162\n",
            "source:\n",
            "F1 loss : 0.06682883569516855 F1 accuracy: 98.06\n",
            "F2 loss : 0.06049447871090349 F2 accuracy: 98.16\n",
            "epoch : 35=-=-=-=-=-=-\n",
            "lossA:0.35660094022750854 lossB:0.3573909401893616 lossC:0.027145033702254295\n",
            "target:\n",
            "F1 loss : 0.37463579156942534 F1 accuracy: 89.1647236318749\n",
            "F2 loss : 0.3885711985721923 F2 accuracy: 89.09614593334247\n",
            "source:\n",
            "F1 loss : 0.0671351854158919 F1 accuracy: 97.97\n",
            "F2 loss : 0.06232396075782024 F2 accuracy: 98.07000000000001\n",
            "epoch : 36=-=-=-=-=-=-\n",
            "lossA:0.28487691283226013 lossB:0.24050523340702057 lossC:0.03391043841838837\n",
            "target:\n",
            "F1 loss : 0.3503000148032841 F1 accuracy: 89.38417226717871\n",
            "F2 loss : 0.36567022873644245 F2 accuracy: 89.34302564805925\n",
            "source:\n",
            "F1 loss : 0.07265285219661184 F1 accuracy: 97.78\n",
            "F2 loss : 0.06301308223974737 F2 accuracy: 98.04\n",
            "epoch : 37=-=-=-=-=-=-\n",
            "lossA:0.2873755991458893 lossB:0.3369278311729431 lossC:0.030097752809524536\n",
            "target:\n",
            "F1 loss : 0.3820608412487465 F1 accuracy: 88.6298175833219\n",
            "F2 loss : 0.3872335252531788 F2 accuracy: 88.75325744068029\n",
            "source:\n",
            "F1 loss : 0.06088007266170498 F1 accuracy: 98.18\n",
            "F2 loss : 0.056994594613685494 F2 accuracy: 98.17\n",
            "epoch : 38=-=-=-=-=-=-\n",
            "lossA:0.3162611722946167 lossB:0.11287871748209 lossC:0.02209305576980114\n",
            "target:\n",
            "F1 loss : 0.31520435841459976 F1 accuracy: 90.45398436428474\n",
            "F2 loss : 0.3264041488107882 F2 accuracy: 90.64600192017555\n",
            "source:\n",
            "F1 loss : 0.06737591026651472 F1 accuracy: 97.96000000000001\n",
            "F2 loss : 0.06335712526409144 F2 accuracy: 97.99\n",
            "epoch : 39=-=-=-=-=-=-\n",
            "lossA:0.14950919151306152 lossB:0.15397579967975616 lossC:0.024440249428153038\n",
            "target:\n",
            "F1 loss : 0.4000654215352577 F1 accuracy: 88.04004937594294\n",
            "F2 loss : 0.40967065644891637 F2 accuracy: 87.91660951858455\n",
            "source:\n",
            "F1 loss : 0.057933005438366006 F1 accuracy: 98.17\n",
            "F2 loss : 0.056935094295827014 F2 accuracy: 98.19\n",
            "epoch : 40=-=-=-=-=-=-\n",
            "lossA:0.23281645774841309 lossB:0.19458170235157013 lossC:0.02775372937321663\n",
            "target:\n",
            "F1 loss : 0.34750886444459883 F1 accuracy: 89.79563845837333\n",
            "F2 loss : 0.36839725547715235 F2 accuracy: 89.34302564805925\n",
            "source:\n",
            "F1 loss : 0.06102504230346059 F1 accuracy: 98.16\n",
            "F2 loss : 0.05821756976494519 F2 accuracy: 98.22\n",
            "epoch : 41=-=-=-=-=-=-\n",
            "lossA:0.2419225573539734 lossB:0.27824440598487854 lossC:0.020930036902427673\n",
            "target:\n",
            "F1 loss : 0.3811969215932645 F1 accuracy: 88.32807570977917\n",
            "F2 loss : 0.39442245636069984 F2 accuracy: 87.87546289946509\n",
            "source:\n",
            "F1 loss : 0.06624426841706367 F1 accuracy: 97.98\n",
            "F2 loss : 0.061893711638742986 F2 accuracy: 98.11\n",
            "epoch : 42=-=-=-=-=-=-\n",
            "lossA:0.24371133744716644 lossB:0.2652583718299866 lossC:0.026467764750123024\n",
            "target:\n",
            "F1 loss : 0.38977556192038354 F1 accuracy: 88.35550678919215\n",
            "F2 loss : 0.4398073496525748 F2 accuracy: 86.81936634206556\n",
            "source:\n",
            "F1 loss : 0.06117920865617174 F1 accuracy: 98.15\n",
            "F2 loss : 0.05735270977182361 F2 accuracy: 98.26\n",
            "epoch : 43=-=-=-=-=-=-\n",
            "lossA:0.43045467138290405 lossB:0.478184312582016 lossC:0.028016388416290283\n",
            "target:\n",
            "F1 loss : 0.43651718241080906 F1 accuracy: 87.10739267590179\n",
            "F2 loss : 0.45797951597916453 F2 accuracy: 86.77821972294609\n",
            "source:\n",
            "F1 loss : 0.06561939635673608 F1 accuracy: 98.00999999999999\n",
            "F2 loss : 0.06087635977111191 F2 accuracy: 98.09\n",
            "epoch : 44=-=-=-=-=-=-\n",
            "lossA:0.3426831364631653 lossB:0.33437350392341614 lossC:0.021118316799402237\n",
            "target:\n",
            "F1 loss : 0.5014178731985259 F1 accuracy: 84.78946646550541\n",
            "F2 loss : 0.5577212253160644 F2 accuracy: 83.51392127280208\n",
            "source:\n",
            "F1 loss : 0.05993780984669995 F1 accuracy: 98.25\n",
            "F2 loss : 0.05533157610496553 F2 accuracy: 98.25\n",
            "epoch : 45=-=-=-=-=-=-\n",
            "lossA:0.17528051137924194 lossB:0.1472378671169281 lossC:0.029208645224571228\n",
            "target:\n",
            "F1 loss : 0.43588261855276006 F1 accuracy: 87.28569469208614\n",
            "F2 loss : 0.48245355748293695 F2 accuracy: 86.05129611850226\n",
            "source:\n",
            "F1 loss : 0.061004518537894126 F1 accuracy: 98.19\n",
            "F2 loss : 0.05705763530052456 F2 accuracy: 98.25\n",
            "epoch : 46=-=-=-=-=-=-\n",
            "lossA:0.1885015219449997 lossB:0.16155286133289337 lossC:0.026568615809082985\n",
            "target:\n",
            "F1 loss : 0.3807448093828402 F1 accuracy: 88.76697298038678\n",
            "F2 loss : 0.40115428702873096 F2 accuracy: 88.50637772596352\n",
            "source:\n",
            "F1 loss : 0.0627490926771189 F1 accuracy: 98.17\n",
            "F2 loss : 0.05887449512853511 F2 accuracy: 98.17\n",
            "epoch : 47=-=-=-=-=-=-\n",
            "lossA:0.2100454866886139 lossB:0.22270400822162628 lossC:0.02998361922800541\n",
            "target:\n",
            "F1 loss : 0.4026640823535752 F1 accuracy: 88.49266218625704\n",
            "F2 loss : 0.41503848632176715 F2 accuracy: 88.58867096420244\n",
            "source:\n",
            "F1 loss : 0.06158636925120166 F1 accuracy: 98.14\n",
            "F2 loss : 0.059458808582924495 F2 accuracy: 98.24000000000001\n",
            "epoch : 48=-=-=-=-=-=-\n",
            "lossA:0.26890045404434204 lossB:0.14100132882595062 lossC:0.027571363374590874\n",
            "target:\n",
            "F1 loss : 0.3794128520969759 F1 accuracy: 89.26073240982033\n",
            "F2 loss : 0.416997888631988 F2 accuracy: 88.60238650390893\n",
            "source:\n",
            "F1 loss : 0.06247552647550084 F1 accuracy: 98.15\n",
            "F2 loss : 0.05866913032376125 F2 accuracy: 98.22999999999999\n",
            "epoch : 49=-=-=-=-=-=-\n",
            "lossA:0.19606362283229828 lossB:0.2129306197166443 lossC:0.020382046699523926\n",
            "target:\n",
            "F1 loss : 0.3894634855943814 F1 accuracy: 88.65724866273487\n",
            "F2 loss : 0.4027042812422702 F2 accuracy: 88.4240844877246\n",
            "source:\n",
            "F1 loss : 0.06335046778276822 F1 accuracy: 98.16\n",
            "F2 loss : 0.06074029830493669 F2 accuracy: 98.18\n",
            "epoch : 50=-=-=-=-=-=-\n",
            "lossA:0.31506454944610596 lossB:0.24955984950065613 lossC:0.029423145577311516\n",
            "target:\n",
            "F1 loss : 0.40037541980283303 F1 accuracy: 88.25949801124673\n",
            "F2 loss : 0.4157664456911254 F2 accuracy: 88.21835139212727\n",
            "source:\n",
            "F1 loss : 0.05755770608010596 F1 accuracy: 98.28\n",
            "F2 loss : 0.056176606540662484 F2 accuracy: 98.2\n",
            "epoch : 51=-=-=-=-=-=-\n",
            "lossA:0.24849234521389008 lossB:0.1522991955280304 lossC:0.02217014506459236\n",
            "target:\n",
            "F1 loss : 0.36219117620535063 F1 accuracy: 89.58990536277602\n",
            "F2 loss : 0.3773839214914723 F2 accuracy: 89.65848306130846\n",
            "source:\n",
            "F1 loss : 0.05399299779342476 F1 accuracy: 98.4\n",
            "F2 loss : 0.05291912053590876 F2 accuracy: 98.39\n",
            "epoch : 52=-=-=-=-=-=-\n",
            "lossA:0.19390390813350677 lossB:0.19626843929290771 lossC:0.0194208063185215\n",
            "target:\n",
            "F1 loss : 0.4029008184085813 F1 accuracy: 88.17720477300782\n",
            "F2 loss : 0.4395648316856016 F2 accuracy: 87.27197915237964\n",
            "source:\n",
            "F1 loss : 0.06449483768038947 F1 accuracy: 98.06\n",
            "F2 loss : 0.06158657663404541 F2 accuracy: 98.16\n",
            "epoch : 53=-=-=-=-=-=-\n",
            "lossA:0.18565943837165833 lossB:0.09952065348625183 lossC:0.021997099742293358\n",
            "target:\n",
            "F1 loss : 0.46867295759811733 F1 accuracy: 86.69592648470717\n",
            "F2 loss : 0.4719878445591843 F2 accuracy: 86.98395281854341\n",
            "source:\n",
            "F1 loss : 0.05487483763504373 F1 accuracy: 98.28\n",
            "F2 loss : 0.05288999954450734 F2 accuracy: 98.37\n",
            "epoch : 54=-=-=-=-=-=-\n",
            "lossA:0.23661111295223236 lossB:0.18845997750759125 lossC:0.020253760740160942\n",
            "target:\n",
            "F1 loss : 0.4018882862047145 F1 accuracy: 88.68467974214785\n",
            "F2 loss : 0.41779129520842906 F2 accuracy: 88.65724866273487\n",
            "source:\n",
            "F1 loss : 0.05496051813817666 F1 accuracy: 98.22\n",
            "F2 loss : 0.05215744451174654 F2 accuracy: 98.3\n",
            "epoch : 55=-=-=-=-=-=-\n",
            "lossA:0.19811029732227325 lossB:0.15048207342624664 lossC:0.01789011061191559\n",
            "target:\n",
            "F1 loss : 0.3538392120808886 F1 accuracy: 89.57618982306954\n",
            "F2 loss : 0.3907876712711234 F2 accuracy: 88.68467974214785\n",
            "source:\n",
            "F1 loss : 0.061237252679140645 F1 accuracy: 98.15\n",
            "F2 loss : 0.056749329726871904 F2 accuracy: 98.2\n",
            "epoch : 56=-=-=-=-=-=-\n",
            "lossA:0.24632132053375244 lossB:0.10890062153339386 lossC:0.021969323977828026\n",
            "target:\n",
            "F1 loss : 0.359760663488455 F1 accuracy: 90.0562337127966\n",
            "F2 loss : 0.40217669177473636 F2 accuracy: 89.617336442189\n",
            "source:\n",
            "F1 loss : 0.05937867663370422 F1 accuracy: 98.24000000000001\n",
            "F2 loss : 0.05484159689844598 F2 accuracy: 98.36\n",
            "epoch : 57=-=-=-=-=-=-\n",
            "lossA:0.3116101920604706 lossB:0.2756108045578003 lossC:0.02312816120684147\n",
            "target:\n",
            "F1 loss : 0.37892210195984755 F1 accuracy: 89.23330133040736\n",
            "F2 loss : 0.40532429281033966 F2 accuracy: 88.69839528185433\n",
            "source:\n",
            "F1 loss : 0.051744211130610465 F1 accuracy: 98.35000000000001\n",
            "F2 loss : 0.049836658286166534 F2 accuracy: 98.36\n",
            "epoch : 58=-=-=-=-=-=-\n",
            "lossA:0.15619438886642456 lossB:0.07340867072343826 lossC:0.018175417557358742\n",
            "target:\n",
            "F1 loss : 0.3435664673646291 F1 accuracy: 90.15224249074201\n",
            "F2 loss : 0.3787292414589932 F2 accuracy: 89.46646550541763\n",
            "source:\n",
            "F1 loss : 0.04490772760130577 F1 accuracy: 98.69\n",
            "F2 loss : 0.04333535137367464 F2 accuracy: 98.65\n",
            "epoch : 59=-=-=-=-=-=-\n",
            "lossA:0.20900629460811615 lossB:0.343951940536499 lossC:0.018823882564902306\n",
            "target:\n",
            "F1 loss : 0.39271285345679835 F1 accuracy: 88.76697298038678\n",
            "F2 loss : 0.434671570595942 F2 accuracy: 87.91660951858455\n",
            "source:\n",
            "F1 loss : 0.04462124005695392 F1 accuracy: 98.6\n",
            "F2 loss : 0.043768134519982425 F2 accuracy: 98.66\n",
            "epoch : 60=-=-=-=-=-=-\n",
            "lossA:0.23289626836776733 lossB:0.14773623645305634 lossC:0.020845845341682434\n",
            "target:\n",
            "F1 loss : 0.3267255182328977 F1 accuracy: 90.3854066657523\n",
            "F2 loss : 0.3611492522453007 F2 accuracy: 90.00137155397064\n",
            "source:\n",
            "F1 loss : 0.051443999280631425 F1 accuracy: 98.39\n",
            "F2 loss : 0.05061325989295198 F2 accuracy: 98.4\n",
            "epoch : 61=-=-=-=-=-=-\n",
            "lossA:0.15789794921875 lossB:0.1567777544260025 lossC:0.01732967421412468\n",
            "target:\n",
            "F1 loss : 0.3313289574886623 F1 accuracy: 90.45398436428474\n",
            "F2 loss : 0.3474571785905905 F2 accuracy: 90.33054450692634\n",
            "source:\n",
            "F1 loss : 0.04844944023481523 F1 accuracy: 98.6\n",
            "F2 loss : 0.04671065236038022 F2 accuracy: 98.54\n",
            "epoch : 62=-=-=-=-=-=-\n",
            "lossA:0.1703752875328064 lossB:0.17078542709350586 lossC:0.017965322360396385\n",
            "target:\n",
            "F1 loss : 0.3253993669099975 F1 accuracy: 90.72829515841448\n",
            "F2 loss : 0.3426184745734198 F2 accuracy: 90.46769990399122\n",
            "source:\n",
            "F1 loss : 0.05043244470187899 F1 accuracy: 98.49\n",
            "F2 loss : 0.047530652380097495 F2 accuracy: 98.47\n",
            "epoch : 63=-=-=-=-=-=-\n",
            "lossA:0.33676719665527344 lossB:0.2719484269618988 lossC:0.019974911585450172\n",
            "target:\n",
            "F1 loss : 0.45189044533068673 F1 accuracy: 87.25826361267316\n",
            "F2 loss : 0.4718650474882962 F2 accuracy: 86.5587710876423\n",
            "source:\n",
            "F1 loss : 0.04914583679350518 F1 accuracy: 98.41\n",
            "F2 loss : 0.04677119764095597 F2 accuracy: 98.57000000000001\n",
            "epoch : 64=-=-=-=-=-=-\n",
            "lossA:0.19768044352531433 lossB:0.10877478122711182 lossC:0.018875593319535255\n",
            "target:\n",
            "F1 loss : 0.3917025006131122 F1 accuracy: 89.02756823481003\n",
            "F2 loss : 0.4018533802346179 F2 accuracy: 88.83555067891922\n",
            "source:\n",
            "F1 loss : 0.0478021544548005 F1 accuracy: 98.63\n",
            "F2 loss : 0.0443491231365707 F2 accuracy: 98.66\n",
            "epoch : 65=-=-=-=-=-=-\n",
            "lossA:0.19358007609844208 lossB:0.13260994851589203 lossC:0.018335634842514992\n",
            "target:\n",
            "F1 loss : 0.41634627287847953 F1 accuracy: 88.0949115347689\n",
            "F2 loss : 0.44645741372777703 F2 accuracy: 87.28569469208614\n",
            "source:\n",
            "F1 loss : 0.058144208715780625 F1 accuracy: 98.22\n",
            "F2 loss : 0.051339684092569386 F2 accuracy: 98.41\n",
            "epoch : 66=-=-=-=-=-=-\n",
            "lossA:0.20551656186580658 lossB:0.21050356328487396 lossC:0.018831342458724976\n",
            "target:\n",
            "F1 loss : 0.3402600923651143 F1 accuracy: 90.65971745988205\n",
            "F2 loss : 0.3538406917400527 F2 accuracy: 90.27568234810039\n",
            "source:\n",
            "F1 loss : 0.05720649198098462 F1 accuracy: 98.26\n",
            "F2 loss : 0.05350986138115861 F2 accuracy: 98.31\n",
            "epoch : 67=-=-=-=-=-=-\n",
            "lossA:0.17611782252788544 lossB:0.1682400405406952 lossC:0.022988680750131607\n",
            "target:\n",
            "F1 loss : 0.3812920984468962 F1 accuracy: 89.617336442189\n",
            "F2 loss : 0.39671088964269874 F2 accuracy: 89.42531888629817\n",
            "source:\n",
            "F1 loss : 0.05199097239418262 F1 accuracy: 98.49\n",
            "F2 loss : 0.04905133036663756 F2 accuracy: 98.52\n",
            "epoch : 68=-=-=-=-=-=-\n",
            "lossA:0.16479423642158508 lossB:0.20197099447250366 lossC:0.015145438723266125\n",
            "target:\n",
            "F1 loss : 0.34176678406564814 F1 accuracy: 90.35797558633932\n",
            "F2 loss : 0.35386995108504044 F2 accuracy: 90.08366479220958\n",
            "source:\n",
            "F1 loss : 0.055023615591116015 F1 accuracy: 98.36\n",
            "F2 loss : 0.05321027853089986 F2 accuracy: 98.39\n",
            "epoch : 69=-=-=-=-=-=-\n",
            "lossA:0.30430883169174194 lossB:0.24992218613624573 lossC:0.02043246477842331\n",
            "target:\n",
            "F1 loss : 0.3251416196948604 F1 accuracy: 90.33054450692634\n",
            "F2 loss : 0.3649075533214368 F2 accuracy: 89.3018790289398\n",
            "source:\n",
            "F1 loss : 0.05653341072412573 F1 accuracy: 98.25\n",
            "F2 loss : 0.05006711382442449 F2 accuracy: 98.4\n",
            "epoch : 70=-=-=-=-=-=-\n",
            "lossA:0.31042638421058655 lossB:0.2644903361797333 lossC:0.01623416319489479\n",
            "target:\n",
            "F1 loss : 0.29240628279614866 F1 accuracy: 91.75696063640105\n",
            "F2 loss : 0.29958274908233107 F2 accuracy: 91.74324509669457\n",
            "source:\n",
            "F1 loss : 0.05396009607040146 F1 accuracy: 98.35000000000001\n",
            "F2 loss : 0.05202094568646973 F2 accuracy: 98.42999999999999\n"
          ]
        }
      ]
    },
    {
      "cell_type": "code",
      "source": [],
      "metadata": {
        "id": "0-XX1J4X69PW"
      },
      "execution_count": null,
      "outputs": []
    }
  ]
}